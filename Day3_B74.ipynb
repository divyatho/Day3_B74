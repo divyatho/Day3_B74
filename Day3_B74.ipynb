{
 "cells": [
  {
   "cell_type": "code",
   "execution_count": 1,
   "id": "535e4d76",
   "metadata": {},
   "outputs": [],
   "source": [
    "first_name = 'bharat'\n",
    "last_name = 'reddy'"
   ]
  },
  {
   "cell_type": "code",
   "execution_count": 3,
   "id": "533bac07",
   "metadata": {},
   "outputs": [
    {
     "name": "stdout",
     "output_type": "stream",
     "text": [
      "bharat reddy\n"
     ]
    }
   ],
   "source": [
    "full_name = f\"{first_name} {last_name}\"  #general syntax for f string\n",
    "print(full_name)"
   ]
  },
  {
   "cell_type": "code",
   "execution_count": 4,
   "id": "f6a524d0",
   "metadata": {},
   "outputs": [
    {
     "name": "stdout",
     "output_type": "stream",
     "text": [
      "keep up the good work, bharat reddy\n"
     ]
    }
   ],
   "source": [
    "message = f\"keep up the good work, {full_name}\"\n",
    "print(message)"
   ]
  },
  {
   "cell_type": "code",
   "execution_count": 6,
   "id": "46ebb90b",
   "metadata": {},
   "outputs": [
    {
     "name": "stdout",
     "output_type": "stream",
     "text": [
      "keep up the good work, Bharat Reddy\n"
     ]
    }
   ],
   "source": [
    "message = f\"keep up the good work, {full_name.title()}\"\n",
    "print(message)"
   ]
  },
  {
   "cell_type": "code",
   "execution_count": 7,
   "id": "25bdcf34",
   "metadata": {},
   "outputs": [
    {
     "name": "stdout",
     "output_type": "stream",
     "text": [
      "favourite_programmin_language:\n",
      "python\n",
      "java\n",
      "c++\n",
      "swift\n",
      "pascal\n"
     ]
    }
   ],
   "source": [
    "print(\"favourite_programmin_language:\\npython\\njava\\nc++\\nswift\\npascal\") #\\n new line delimiter"
   ]
  },
  {
   "cell_type": "code",
   "execution_count": 8,
   "id": "479d8560",
   "metadata": {},
   "outputs": [
    {
     "name": "stdout",
     "output_type": "stream",
     "text": [
      "favourite_programmin_language:\n",
      "\tpython\n",
      "\tjava\n",
      "\tc++\n",
      "\tswift\n",
      "\tpascal\n"
     ]
    }
   ],
   "source": [
    "print(\"favourite_programmin_language:\\n\\tpython\\n\\tjava\\n\\tc++\\n\\tswift\\n\\tpascal\") # \\t tab delimiter"
   ]
  },
  {
   "cell_type": "code",
   "execution_count": 12,
   "id": "a652dead",
   "metadata": {},
   "outputs": [
    {
     "name": "stdout",
     "output_type": "stream",
     "text": [
      "   python\n"
     ]
    }
   ],
   "source": [
    "name = \"   python\"\n",
    "print(name)"
   ]
  },
  {
   "cell_type": "code",
   "execution_count": 13,
   "id": "6b2a17e4",
   "metadata": {},
   "outputs": [
    {
     "data": {
      "text/plain": [
       "'python'"
      ]
     },
     "execution_count": 13,
     "metadata": {},
     "output_type": "execute_result"
    }
   ],
   "source": [
    "name.lstrip() # removing whitw space from left side"
   ]
  },
  {
   "cell_type": "code",
   "execution_count": 14,
   "id": "6746d0fb",
   "metadata": {},
   "outputs": [
    {
     "name": "stdout",
     "output_type": "stream",
     "text": [
      "python   \n"
     ]
    }
   ],
   "source": [
    "name1 = \"python   \" #removing white space from right side\n",
    "print(name1)"
   ]
  },
  {
   "cell_type": "code",
   "execution_count": 15,
   "id": "355aa521",
   "metadata": {},
   "outputs": [
    {
     "data": {
      "text/plain": [
       "'python'"
      ]
     },
     "execution_count": 15,
     "metadata": {},
     "output_type": "execute_result"
    }
   ],
   "source": [
    "name1.rstrip()"
   ]
  },
  {
   "cell_type": "code",
   "execution_count": 16,
   "id": "0c68175d",
   "metadata": {},
   "outputs": [
    {
     "name": "stdout",
     "output_type": "stream",
     "text": [
      "   python   \n"
     ]
    }
   ],
   "source": [
    "name2 = \"   python   \"\n",
    "print(name2)"
   ]
  },
  {
   "cell_type": "code",
   "execution_count": 17,
   "id": "58cc3e6f",
   "metadata": {},
   "outputs": [
    {
     "data": {
      "text/plain": [
       "'python'"
      ]
     },
     "execution_count": 17,
     "metadata": {},
     "output_type": "execute_result"
    }
   ],
   "source": [
    "name2.strip() #search + execute"
   ]
  },
  {
   "cell_type": "code",
   "execution_count": null,
   "id": "45222c0b",
   "metadata": {},
   "outputs": [],
   "source": []
  }
 ],
 "metadata": {
  "kernelspec": {
   "display_name": "Python 3 (ipykernel)",
   "language": "python",
   "name": "python3"
  },
  "language_info": {
   "codemirror_mode": {
    "name": "ipython",
    "version": 3
   },
   "file_extension": ".py",
   "mimetype": "text/x-python",
   "name": "python",
   "nbconvert_exporter": "python",
   "pygments_lexer": "ipython3",
   "version": "3.9.13"
  }
 },
 "nbformat": 4,
 "nbformat_minor": 5
}
